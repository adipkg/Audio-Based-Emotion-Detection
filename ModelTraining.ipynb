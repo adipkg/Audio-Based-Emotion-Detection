{
  "cells": [
    {
      "cell_type": "code",
      "execution_count": 1,
      "metadata": {
        "id": "EXmncAN7tF4F"
      },
      "outputs": [],
      "source": [
        "import tensorflow as tf\n",
        "import numpy as np\n",
        "import pandas as pd\n",
        "import matplotlib.pyplot as plt\n",
        "import seaborn as sns"
      ]
    },
    {
      "cell_type": "code",
      "execution_count": 3,
      "metadata": {},
      "outputs": [],
      "source": [
        "X_train = np.load('data/X_train.npy')\n",
        "y_train = np.load('data/y_train.npy')\n",
        "X_test = np.load('data/X_test.npy')\n",
        "y_test = np.load('data/y_test.npy')\n",
        "X_val = np.load('data/X_val.npy')\n",
        "y_val = np.load('data/y_val.npy')"
      ]
    },
    {
      "cell_type": "code",
      "execution_count": null,
      "metadata": {
        "colab": {
          "base_uri": "https://localhost:8080/"
        },
        "id": "L75g96m2uBYk",
        "outputId": "20a4e786-23c3-4d24-e39b-a9449aa83c9f"
      },
      "outputs": [
        {
          "data": {
            "text/plain": [
              "(16640, 7)"
            ]
          },
          "execution_count": 7,
          "metadata": {},
          "output_type": "execute_result"
        }
      ],
      "source": [
        "n_features = X_train.shape[-1]\n",
        "n_outputs = y_train.shape[-1]\n",
        "n_features, n_outputs"
      ]
    },
    {
      "cell_type": "code",
      "execution_count": null,
      "metadata": {
        "id": "dBZiQM7qu8lx"
      },
      "outputs": [],
      "source": [
        "model_simple = tf.keras.Sequential([\n",
        "      tf.keras.layers.Conv1D(256, 5, activation = \"relu\", input_shape = (n_features, 1)),\n",
        "      tf.keras.layers.MaxPool1D(pool_size = 5, strides = 2),\n",
        "      tf.keras.layers.Dropout(0.3),\n",
        "\n",
        "      tf.keras.layers.Conv1D(256, 5, activation = \"relu\"),\n",
        "      tf.keras.layers.MaxPool1D(pool_size = 5, strides = 2),\n",
        "      tf.keras.layers.Dropout(0.2),\n",
        "\n",
        "      tf.keras.layers.Conv1D(128, 5, activation = \"relu\", input_shape = (n_features, 1)),\n",
        "      tf.keras.layers.MaxPool1D(pool_size = 5, strides = 2, padding = \"same\"),\n",
        "      tf.keras.layers.Dropout(0.2),\n",
        "\n",
        "      tf.keras.layers.Conv1D(128, 5, activation = \"relu\", input_shape = (n_features, 1)),\n",
        "      tf.keras.layers.MaxPool1D(pool_size = 5, strides = 2, padding = \"same\"),\n",
        "      tf.keras.layers.Dropout(0.2),\n",
        "\n",
        "      tf.keras.layers.Conv1D(64, 5, activation = \"relu\", input_shape = (n_features, 1)),\n",
        "      tf.keras.layers.MaxPool1D(pool_size = 5, strides = 2, padding = \"same\"),\n",
        "      tf.keras.layers.Dropout(0.2),\n",
        "\n",
        "      tf.keras.layers.Conv1D(64, 5, activation = \"relu\", input_shape = (n_features, 1)),\n",
        "      tf.keras.layers.MaxPool1D(pool_size = 5, strides = 2),\n",
        "      tf.keras.layers.Dropout(0.2),\n",
        "\n",
        "      tf.keras.layers.Conv1D(32, 5, activation = \"relu\", input_shape = (n_features, 1)),\n",
        "      tf.keras.layers.MaxPool1D(pool_size = 5, strides = 2),\n",
        "      tf.keras.layers.Dropout(0.1),\n",
        "\n",
        "      tf.keras.layers.Flatten(),\n",
        "      tf.keras.layers.Dense(n_outputs, activation = \"softmax\") #output layer\n",
        "  ])"
      ]
    },
    {
      "cell_type": "code",
      "execution_count": null,
      "metadata": {
        "colab": {
          "base_uri": "https://localhost:8080/"
        },
        "id": "xzgMCOIqu9TX",
        "outputId": "5c3a7045-6260-4e79-b006-909250bfc22e"
      },
      "outputs": [
        {
          "name": "stdout",
          "output_type": "stream",
          "text": [
            "Model: \"sequential_1\"\n",
            "_________________________________________________________________\n",
            " Layer (type)                Output Shape              Param #   \n",
            "=================================================================\n",
            " conv1d_7 (Conv1D)           (None, 16636, 256)        1536      \n",
            "                                                                 \n",
            " max_pooling1d_7 (MaxPoolin  (None, 8316, 256)         0         \n",
            " g1D)                                                            \n",
            "                                                                 \n",
            " dropout_7 (Dropout)         (None, 8316, 256)         0         \n",
            "                                                                 \n",
            " conv1d_8 (Conv1D)           (None, 8312, 256)         327936    \n",
            "                                                                 \n",
            " max_pooling1d_8 (MaxPoolin  (None, 4154, 256)         0         \n",
            " g1D)                                                            \n",
            "                                                                 \n",
            " dropout_8 (Dropout)         (None, 4154, 256)         0         \n",
            "                                                                 \n",
            " conv1d_9 (Conv1D)           (None, 4150, 128)         163968    \n",
            "                                                                 \n",
            " max_pooling1d_9 (MaxPoolin  (None, 2075, 128)         0         \n",
            " g1D)                                                            \n",
            "                                                                 \n",
            " dropout_9 (Dropout)         (None, 2075, 128)         0         \n",
            "                                                                 \n",
            " conv1d_10 (Conv1D)          (None, 2071, 128)         82048     \n",
            "                                                                 \n",
            " max_pooling1d_10 (MaxPooli  (None, 1036, 128)         0         \n",
            " ng1D)                                                           \n",
            "                                                                 \n",
            " dropout_10 (Dropout)        (None, 1036, 128)         0         \n",
            "                                                                 \n",
            " conv1d_11 (Conv1D)          (None, 1032, 64)          41024     \n",
            "                                                                 \n",
            " max_pooling1d_11 (MaxPooli  (None, 516, 64)           0         \n",
            " ng1D)                                                           \n",
            "                                                                 \n",
            " dropout_11 (Dropout)        (None, 516, 64)           0         \n",
            "                                                                 \n",
            " conv1d_12 (Conv1D)          (None, 512, 64)           20544     \n",
            "                                                                 \n",
            " max_pooling1d_12 (MaxPooli  (None, 254, 64)           0         \n",
            " ng1D)                                                           \n",
            "                                                                 \n",
            " dropout_12 (Dropout)        (None, 254, 64)           0         \n",
            "                                                                 \n",
            " conv1d_13 (Conv1D)          (None, 250, 32)           10272     \n",
            "                                                                 \n",
            " max_pooling1d_13 (MaxPooli  (None, 123, 32)           0         \n",
            " ng1D)                                                           \n",
            "                                                                 \n",
            " dropout_13 (Dropout)        (None, 123, 32)           0         \n",
            "                                                                 \n",
            " flatten_1 (Flatten)         (None, 3936)              0         \n",
            "                                                                 \n",
            " dense_1 (Dense)             (None, 7)                 27559     \n",
            "                                                                 \n",
            "=================================================================\n",
            "Total params: 674887 (2.57 MB)\n",
            "Trainable params: 674887 (2.57 MB)\n",
            "Non-trainable params: 0 (0.00 Byte)\n",
            "_________________________________________________________________\n"
          ]
        }
      ],
      "source": [
        "model_simple.summary()"
      ]
    },
    {
      "cell_type": "code",
      "execution_count": null,
      "metadata": {
        "id": "gCDdUusQu_R3"
      },
      "outputs": [],
      "source": [
        "model_simple.compile(\n",
        "    optimizer = \"adam\",\n",
        "    loss = tf.keras.losses.CategoricalCrossentropy(),\n",
        "    metrics = [\"accuracy\"]\n",
        ")"
      ]
    },
    {
      "cell_type": "code",
      "execution_count": null,
      "metadata": {
        "id": "_QmIxDYyvDq6"
      },
      "outputs": [],
      "source": [
        "model_attempt = 1"
      ]
    },
    {
      "cell_type": "code",
      "execution_count": null,
      "metadata": {
        "id": "V_DSp1hYvFj6"
      },
      "outputs": [],
      "source": [
        "val_callback = tf.keras.callbacks.EarlyStopping(\n",
        "    monitor = \"val_accuracy\",\n",
        "    min_delta = 0.1,\n",
        "    patience = 6,\n",
        "    verbose = 1,\n",
        "    restore_best_weights = True\n",
        ")\n",
        "checkpoint_path = \"working/EPOCH:{epoch}-ACCURACY:{val_accuracy}.keras\"\n",
        "checkpoint = tf.keras.callbacks.ModelCheckpoint(\n",
        "    checkpoint_path,\n",
        "    monitor = \"val_accuracy\",\n",
        "    verbose = 1,\n",
        "    save_freq = \"epoch\"\n",
        ")"
      ]
    },
    {
      "cell_type": "code",
      "execution_count": null,
      "metadata": {
        "colab": {
          "base_uri": "https://localhost:8080/"
        },
        "id": "tZggjWwVvIKk",
        "outputId": "a970d57e-5ed3-4a63-b851-9579438386d8"
      },
      "outputs": [
        {
          "name": "stdout",
          "output_type": "stream",
          "text": [
            "Epoch 1/50\n",
            "225/225 [==============================] - 26s 66ms/step - loss: 2.5345 - accuracy: 0.2116 - val_loss: 2.6586 - val_accuracy: 0.1698\n",
            "Epoch 2/50\n",
            "225/225 [==============================] - 6s 25ms/step - loss: 2.1797 - accuracy: 0.2466 - val_loss: 2.1999 - val_accuracy: 0.2255\n",
            "Epoch 3/50\n",
            "225/225 [==============================] - 6s 25ms/step - loss: 2.1333 - accuracy: 0.2516 - val_loss: 2.3817 - val_accuracy: 0.1943\n",
            "Epoch 4/50\n",
            "225/225 [==============================] - 6s 26ms/step - loss: 2.1137 - accuracy: 0.2558 - val_loss: 2.8604 - val_accuracy: 0.1570\n",
            "Epoch 5/50\n",
            "225/225 [==============================] - 6s 25ms/step - loss: 2.0894 - accuracy: 0.2577 - val_loss: 2.1657 - val_accuracy: 0.1776\n",
            "Epoch 6/50\n",
            "225/225 [==============================] - 6s 26ms/step - loss: 2.0593 - accuracy: 0.2586 - val_loss: 2.7257 - val_accuracy: 0.1604\n",
            "Epoch 7/50\n",
            "225/225 [==============================] - 6s 26ms/step - loss: 2.0212 - accuracy: 0.2634 - val_loss: 2.1038 - val_accuracy: 0.2684\n",
            "Epoch 8/50\n",
            "225/225 [==============================] - 7s 30ms/step - loss: 1.9885 - accuracy: 0.2700 - val_loss: 2.0033 - val_accuracy: 0.2751\n",
            "Epoch 9/50\n",
            "225/225 [==============================] - 6s 26ms/step - loss: 1.9793 - accuracy: 0.2726 - val_loss: 2.1423 - val_accuracy: 0.1837\n",
            "Epoch 10/50\n",
            "225/225 [==============================] - 6s 26ms/step - loss: 1.9580 - accuracy: 0.2790 - val_loss: 2.1882 - val_accuracy: 0.1604\n",
            "Epoch 11/50\n",
            "225/225 [==============================] - 6s 26ms/step - loss: 1.9356 - accuracy: 0.2737 - val_loss: 2.9046 - val_accuracy: 0.1559\n",
            "Epoch 12/50\n",
            "225/225 [==============================] - 6s 26ms/step - loss: 1.8985 - accuracy: 0.2918 - val_loss: 3.1299 - val_accuracy: 0.1810\n",
            "Epoch 13/50\n",
            "225/225 [==============================] - 6s 26ms/step - loss: 1.8835 - accuracy: 0.2925 - val_loss: 3.3474 - val_accuracy: 0.2016\n",
            "Epoch 14/50\n",
            "225/225 [==============================] - 6s 26ms/step - loss: 1.8588 - accuracy: 0.2992 - val_loss: 3.0740 - val_accuracy: 0.2166\n",
            "Epoch 15/50\n",
            "225/225 [==============================] - 6s 26ms/step - loss: 1.8418 - accuracy: 0.3026 - val_loss: 5.9750 - val_accuracy: 0.1598\n",
            "Epoch 16/50\n",
            "225/225 [==============================] - 6s 26ms/step - loss: 1.8256 - accuracy: 0.3034 - val_loss: 3.7862 - val_accuracy: 0.1949\n",
            "Epoch 17/50\n",
            "225/225 [==============================] - 6s 26ms/step - loss: 1.8140 - accuracy: 0.3049 - val_loss: 4.0691 - val_accuracy: 0.1553\n",
            "Epoch 18/50\n",
            "225/225 [==============================] - 6s 26ms/step - loss: 1.7962 - accuracy: 0.3065 - val_loss: 5.7643 - val_accuracy: 0.1609\n",
            "Epoch 19/50\n",
            "225/225 [==============================] - 6s 26ms/step - loss: 1.7857 - accuracy: 0.3087 - val_loss: 4.3313 - val_accuracy: 0.2077\n",
            "Epoch 20/50\n",
            "225/225 [==============================] - 6s 26ms/step - loss: 1.7690 - accuracy: 0.3111 - val_loss: 2.6010 - val_accuracy: 0.1570\n",
            "Epoch 21/50\n",
            "225/225 [==============================] - 6s 26ms/step - loss: 1.7640 - accuracy: 0.3072 - val_loss: 2.0293 - val_accuracy: 0.2673\n",
            "Epoch 22/50\n",
            "225/225 [==============================] - 6s 25ms/step - loss: 1.7519 - accuracy: 0.3183 - val_loss: 1.9230 - val_accuracy: 0.2177\n",
            "Epoch 23/50\n",
            "225/225 [==============================] - 6s 25ms/step - loss: 1.7429 - accuracy: 0.3191 - val_loss: 2.5660 - val_accuracy: 0.1537\n",
            "Epoch 24/50\n",
            "225/225 [==============================] - 6s 25ms/step - loss: 1.7246 - accuracy: 0.3180 - val_loss: 2.3214 - val_accuracy: 0.1949\n",
            "Epoch 25/50\n",
            "225/225 [==============================] - 6s 26ms/step - loss: 1.7111 - accuracy: 0.3212 - val_loss: 2.5021 - val_accuracy: 0.1904\n",
            "Epoch 26/50\n",
            "225/225 [==============================] - 6s 26ms/step - loss: 1.7035 - accuracy: 0.3253 - val_loss: 2.0910 - val_accuracy: 0.1888\n",
            "Epoch 27/50\n",
            "225/225 [==============================] - 6s 25ms/step - loss: 1.7038 - accuracy: 0.3175 - val_loss: 2.5999 - val_accuracy: 0.1893\n",
            "Epoch 28/50\n",
            "225/225 [==============================] - 6s 26ms/step - loss: 1.7046 - accuracy: 0.3271 - val_loss: 2.0515 - val_accuracy: 0.1943\n",
            "Epoch 29/50\n",
            "225/225 [==============================] - 6s 26ms/step - loss: 1.7066 - accuracy: 0.3170 - val_loss: 2.7183 - val_accuracy: 0.1927\n",
            "Epoch 30/50\n",
            "225/225 [==============================] - 6s 26ms/step - loss: 1.6997 - accuracy: 0.3208 - val_loss: 2.0880 - val_accuracy: 0.1921\n",
            "Epoch 31/50\n",
            "225/225 [==============================] - 6s 26ms/step - loss: 1.6955 - accuracy: 0.3251 - val_loss: 2.1236 - val_accuracy: 0.1837\n",
            "Epoch 32/50\n",
            "225/225 [==============================] - 6s 26ms/step - loss: 1.6915 - accuracy: 0.3268 - val_loss: 2.8718 - val_accuracy: 0.1754\n",
            "Epoch 33/50\n",
            "225/225 [==============================] - 6s 25ms/step - loss: 1.6940 - accuracy: 0.3268 - val_loss: 2.4113 - val_accuracy: 0.1726\n",
            "Epoch 34/50\n",
            "225/225 [==============================] - 6s 26ms/step - loss: 1.6956 - accuracy: 0.3248 - val_loss: 2.5262 - val_accuracy: 0.1570\n",
            "Epoch 35/50\n",
            "225/225 [==============================] - 6s 25ms/step - loss: 1.6996 - accuracy: 0.3290 - val_loss: 2.1830 - val_accuracy: 0.1815\n",
            "Epoch 36/50\n",
            "225/225 [==============================] - 6s 25ms/step - loss: 1.6818 - accuracy: 0.3283 - val_loss: 2.0623 - val_accuracy: 0.1704\n",
            "Epoch 37/50\n",
            "225/225 [==============================] - 6s 25ms/step - loss: 1.6939 - accuracy: 0.3344 - val_loss: 2.5442 - val_accuracy: 0.1498\n",
            "Epoch 38/50\n",
            "225/225 [==============================] - 6s 26ms/step - loss: 1.6880 - accuracy: 0.3322 - val_loss: 2.0355 - val_accuracy: 0.1754\n",
            "Epoch 39/50\n",
            "225/225 [==============================] - 6s 26ms/step - loss: 1.6884 - accuracy: 0.3303 - val_loss: 2.1558 - val_accuracy: 0.1698\n",
            "Epoch 40/50\n",
            "225/225 [==============================] - 6s 25ms/step - loss: 1.6908 - accuracy: 0.3372 - val_loss: 2.1018 - val_accuracy: 0.1726\n",
            "Epoch 41/50\n",
            "225/225 [==============================] - 6s 26ms/step - loss: 1.6896 - accuracy: 0.3312 - val_loss: 2.3750 - val_accuracy: 0.1592\n",
            "Epoch 42/50\n",
            "225/225 [==============================] - 6s 25ms/step - loss: 1.6961 - accuracy: 0.3376 - val_loss: 2.4079 - val_accuracy: 0.1648\n",
            "Epoch 43/50\n",
            "225/225 [==============================] - 6s 25ms/step - loss: 1.6896 - accuracy: 0.3381 - val_loss: 2.5454 - val_accuracy: 0.1715\n",
            "Epoch 44/50\n",
            "225/225 [==============================] - 6s 25ms/step - loss: 1.6874 - accuracy: 0.3429 - val_loss: 2.5166 - val_accuracy: 0.1865\n",
            "Epoch 45/50\n",
            "225/225 [==============================] - 6s 25ms/step - loss: 1.6809 - accuracy: 0.3386 - val_loss: 2.7606 - val_accuracy: 0.1481\n",
            "Epoch 46/50\n",
            "225/225 [==============================] - 6s 25ms/step - loss: 1.6741 - accuracy: 0.3410 - val_loss: 1.9264 - val_accuracy: 0.2333\n",
            "Epoch 47/50\n",
            "225/225 [==============================] - 6s 28ms/step - loss: 1.6774 - accuracy: 0.3450 - val_loss: 2.2309 - val_accuracy: 0.1604\n",
            "Epoch 48/50\n",
            "225/225 [==============================] - 6s 25ms/step - loss: 1.6716 - accuracy: 0.3411 - val_loss: 2.1158 - val_accuracy: 0.1954\n",
            "Epoch 49/50\n",
            "225/225 [==============================] - 6s 26ms/step - loss: 1.6677 - accuracy: 0.3456 - val_loss: 1.8794 - val_accuracy: 0.2589\n",
            "Epoch 50/50\n",
            "225/225 [==============================] - 6s 26ms/step - loss: 1.6655 - accuracy: 0.3421 - val_loss: 2.3785 - val_accuracy: 0.1609\n"
          ]
        }
      ],
      "source": [
        "history = model_simple.fit(\n",
        "    X_train, y_train,\n",
        "    epochs = 50,\n",
        "    #callbacks = [tf.keras.callbacks.EarlyStopping(monitor='val_loss', patience=5)],\n",
        "    #callbacks = [checkpoint],\n",
        "    validation_split=0.05,\n",
        ")\n",
        "model_attempt += 1"
      ]
    },
    {
      "cell_type": "code",
      "execution_count": null,
      "metadata": {
        "colab": {
          "base_uri": "https://localhost:8080/",
          "height": 448
        },
        "id": "MAExgKQtvL_g",
        "outputId": "8d800f48-5073-41d8-fc99-f47858be35ff"
      },
      "outputs": [
        {
          "data": {
            "text/plain": [
              "<matplotlib.legend.Legend at 0x7ae0f828fb50>"
            ]
          },
          "execution_count": 40,
          "metadata": {},
          "output_type": "execute_result"
        },
        {
          "data": {
            "image/png": "[encoded data removed]",
            "text/plain": [
              "<Figure size 640x480 with 1 Axes>"
            ]
          },
          "metadata": {},
          "output_type": "display_data"
        }
      ],
      "source": [
        "plt.plot(history.history[\"accuracy\"], label = \"Accuracy\")\n",
        "plt.plot(history.history[\"val_accuracy\"], label = \"Val Accuracy\")\n",
        "plt.legend()"
      ]
    },
    {
      "cell_type": "code",
      "execution_count": null,
      "metadata": {
        "colab": {
          "base_uri": "https://localhost:8080/"
        },
        "id": "Kf7k5Yw_vUce",
        "outputId": "a99b7d15-000a-4fc4-c545-1b9546361ac2"
      },
      "outputs": [
        {
          "name": "stdout",
          "output_type": "stream",
          "text": [
            "121/121 [==============================] - 2s 12ms/step - loss: 1.5723 - accuracy: 0.3992\n",
            "Test Loss: 1.5723100900650024\n",
            "Test Accuracy: 39.92%\n"
          ]
        }
      ],
      "source": [
        "# Evaluate the model on the test set\n",
        "test_loss, test_accuracy = model_simple.evaluate(X_test, y_test)\n",
        "\n",
        "print(f\"Test Loss: {test_loss}\")\n",
        "print(f\"Test Accuracy: {test_accuracy * 100:.2f}%\")"
      ]
    }
  ],
  "metadata": {
    "accelerator": "TPU",
    "colab": {
      "gpuType": "V28",
      "provenance": []
    },
    "kernelspec": {
      "display_name": "Python 3.10.6 ('base')",
      "language": "python",
      "name": "python3"
    },
    "language_info": {
      "codemirror_mode": {
        "name": "ipython",
        "version": 3
      },
      "file_extension": ".py",
      "mimetype": "text/x-python",
      "name": "python",
      "nbconvert_exporter": "python",
      "pygments_lexer": "ipython3",
      "version": "3.10.6"
    },
    "vscode": {
      "interpreter": {
        "hash": "523227c5795f24846ce8f255f5059528cee509b529bcbfbba55c2815eefc1df4"
      }
    }
  },
  "nbformat": 4,
  "nbformat_minor": 0
}
